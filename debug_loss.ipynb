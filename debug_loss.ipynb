{
 "cells": [
  {
   "cell_type": "code",
   "execution_count": 1,
   "id": "66ecd7f4",
   "metadata": {},
   "outputs": [
    {
     "name": "stdout",
     "output_type": "stream",
     "text": [
      "🚀 Running experiment: yolov5n-rgbt-loss.0.2-0.7\n",
      "\n",
      "    python train_simple.py         --img 640         --batch-size 16         --epochs 20         --data data/kaist-rgbt-split-byOPT.yaml         --cfg models/yolov5n_kaist-rgbt.yaml         --weights yolov5n.pt         --workers 4         --name yolov5n-rgbt-loss.0.2-0.7         --entity $WANDB_ENTITY         --rgbt         --single-cls         --hyp data/hyps/hyp.scratch-loss-0.2-0.7.yaml         --optimizer SGD\n",
      "    \n",
      "🚀 Running experiment: yolov5n-rgbt-loss.0.2-0.8\n",
      "\n",
      "    python train_simple.py         --img 640         --batch-size 16         --epochs 20         --data data/kaist-rgbt-split-byOPT.yaml         --cfg models/yolov5n_kaist-rgbt.yaml         --weights yolov5n.pt         --workers 4         --name yolov5n-rgbt-loss.0.2-0.8         --entity $WANDB_ENTITY         --rgbt         --single-cls         --hyp data/hyps/hyp.scratch-loss-0.2-0.8.yaml         --optimizer SGD\n",
      "    \n",
      "🚀 Running experiment: yolov5n-rgbt-loss.0.2-0.9\n",
      "\n",
      "    python train_simple.py         --img 640         --batch-size 16         --epochs 20         --data data/kaist-rgbt-split-byOPT.yaml         --cfg models/yolov5n_kaist-rgbt.yaml         --weights yolov5n.pt         --workers 4         --name yolov5n-rgbt-loss.0.2-0.9         --entity $WANDB_ENTITY         --rgbt         --single-cls         --hyp data/hyps/hyp.scratch-loss-0.2-0.9.yaml         --optimizer SGD\n",
      "    \n",
      "🚀 Running experiment: yolov5n-rgbt-loss.0.4-0.8\n",
      "\n",
      "    python train_simple.py         --img 640         --batch-size 16         --epochs 20         --data data/kaist-rgbt-split-byOPT.yaml         --cfg models/yolov5n_kaist-rgbt.yaml         --weights yolov5n.pt         --workers 4         --name yolov5n-rgbt-loss.0.4-0.8         --entity $WANDB_ENTITY         --rgbt         --single-cls         --hyp data/hyps/hyp.scratch-loss-0.4-0.8.yaml         --optimizer SGD\n",
      "    \n",
      "🚀 Running experiment: yolov5n-rgbt-loss.0.5-0.8\n",
      "\n",
      "    python train_simple.py         --img 640         --batch-size 16         --epochs 20         --data data/kaist-rgbt-split-byOPT.yaml         --cfg models/yolov5n_kaist-rgbt.yaml         --weights yolov5n.pt         --workers 4         --name yolov5n-rgbt-loss.0.5-0.8         --entity $WANDB_ENTITY         --rgbt         --single-cls         --hyp data/hyps/hyp.scratch-loss-0.5-0.8.yaml         --optimizer SGD\n",
      "    \n",
      "🚀 Running experiment: yolov5n-rgbt-loss.0.6-0.8\n",
      "\n",
      "    python train_simple.py         --img 640         --batch-size 16         --epochs 20         --data data/kaist-rgbt-split-byOPT.yaml         --cfg models/yolov5n_kaist-rgbt.yaml         --weights yolov5n.pt         --workers 4         --name yolov5n-rgbt-loss.0.6-0.8         --entity $WANDB_ENTITY         --rgbt         --single-cls         --hyp data/hyps/hyp.scratch-loss-0.6-0.8.yaml         --optimizer SGD\n",
      "    \n"
     ]
    }
   ],
   "source": [
    "import glob\n",
    "import os\n",
    "import subprocess\n",
    "\n",
    "# hyp 파일들이 있는 디렉토리 & 패턴\n",
    "hyp_dir = 'data/hyps'\n",
    "pattern = 'hyp.scratch-loss-*.yaml'\n",
    "\n",
    "# YAML 파일 리스트 (정렬해서 일관된 순서로 실행)\n",
    "hyp_paths = sorted(glob.glob(os.path.join(hyp_dir, pattern)))\n",
    "\n",
    "for hyp_path in hyp_paths:\n",
    "    # 파일명에서 “0.2-0.7” 같은 파라미터 부분만 추출\n",
    "    hyp_name = os.path.basename(hyp_path).replace('hyp.scratch-loss-', '').replace('.yaml', '')\n",
    "    run_name = f'yolov5n-rgbt-loss.{hyp_name}'\n",
    "\n",
    "    # shell 커맨드 문자열 생성\n",
    "    cmd = f\"\"\"\n",
    "    python train_simple.py \\\n",
    "        --img 640 \\\n",
    "        --batch-size 16 \\\n",
    "        --epochs 20 \\\n",
    "        --data data/kaist-rgbt-split-byOPT.yaml \\\n",
    "        --cfg models/yolov5n_kaist-rgbt.yaml \\\n",
    "        --weights yolov5n.pt \\\n",
    "        --workers 4 \\\n",
    "        --name {run_name} \\\n",
    "        --entity $WANDB_ENTITY \\\n",
    "        --rgbt \\\n",
    "        --single-cls \\\n",
    "        --hyp {hyp_path} \\\n",
    "        --optimizer SGD\n",
    "    \"\"\"\n",
    "\n",
    "    print(f\"🚀 Running experiment: {run_name}\")\n",
    "    print(cmd)\n"
   ]
  }
 ],
 "metadata": {
  "kernelspec": {
   "display_name": "Python 3",
   "language": "python",
   "name": "python3"
  },
  "language_info": {
   "codemirror_mode": {
    "name": "ipython",
    "version": 3
   },
   "file_extension": ".py",
   "mimetype": "text/x-python",
   "name": "python",
   "nbconvert_exporter": "python",
   "pygments_lexer": "ipython3",
   "version": "3.10.17"
  }
 },
 "nbformat": 4,
 "nbformat_minor": 5
}
